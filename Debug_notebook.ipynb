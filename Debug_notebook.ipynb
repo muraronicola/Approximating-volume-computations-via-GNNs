{
 "cells": [
  {
   "cell_type": "code",
   "execution_count": 6,
   "id": "c9448e24",
   "metadata": {},
   "outputs": [],
   "source": [
    "import numpy as np\n",
    "import matplotlib.pyplot as plt\n",
    "from show_politope import *\n",
    "from scipy.optimize import linprog\n",
    "from scipy.spatial import HalfspaceIntersection, ConvexHull\n",
    "from pycvxset import Polytope, Ellipsoid, spread_points_on_a_unit_sphere\n",
    "import os\n",
    "import argparse\n",
    "from tqdm import tqdm\n",
    "import math\n",
    "\n",
    "m = 4\n",
    "r = 2\n",
    "\n",
    "base_path=\"./data/\"\n",
    "path = base_path + \"m_\" + str(m) + \"_r_\" + str(r) + \"/\"\n",
    "\n",
    "exact_politopes_x_normalized = np.load(path + \"exact_politopes_x_normalized.npy\", allow_pickle=True)\n",
    "exact_politopes_x = np.load(path + \"exact_politopes_x.npy\", allow_pickle=True)\n",
    "exact_politopes_y = np.load(path + \"exact_politopes_y.npy\", allow_pickle=True)"
   ]
  },
  {
   "cell_type": "code",
   "execution_count": 13,
   "id": "973944cc",
   "metadata": {},
   "outputs": [
    {
     "name": "stdout",
     "output_type": "stream",
     "text": [
      "exact_politopes_x_normalized[0] [[0.09650174844546099 0.0027096172812189653 0.4414746715193314]\n",
      " [-0.03940585249072831 0.12525436930706524 0.571488057593367]\n",
      " [-0.04658126296750346 -0.080299591465464 0.34262141823364284]\n",
      " [0.09619576003074763 0.0790462760056176 0.5571632561784159]]\n",
      "exact_politopes_x[0] [[7.626143454753798 0.21413011087290545 34.887960382909405]\n",
      " [-3.114085380753495 9.898346963218357 45.16239322180499]\n",
      " [-3.681129092645996 -6.345752421468751 27.075986997247583]\n",
      " [7.6019624260813945 6.24670796222508 44.03036201707488]]\n",
      "exact_politopes_y[0] 87.30192562222979\n",
      "A [[ 0.09650175  0.00270962]\n",
      " [-0.03940585  0.12525437]\n",
      " [-0.04658126 -0.08029959]\n",
      " [ 0.09619576  0.07904628]]\n",
      "b [0.44147467 0.57148806 0.34262142 0.55716326]\n",
      "volume 87.3019256222298\n"
     ]
    }
   ],
   "source": [
    "print(\"exact_politopes_x_normalized[0]\", exact_politopes_x_normalized[0])\n",
    "print(\"exact_politopes_x[0]\", exact_politopes_x[0])\n",
    "print(\"exact_politopes_y[0]\", exact_politopes_y[0])\n",
    "\n",
    "A = np.array([[0.09650174844546099, 0.0027096172812189653],\n",
    "              [-0.03940585249072831, 0.12525436930706524],\n",
    "              [-0.04658126296750346, -0.080299591465464],\n",
    "              [0.09619576003074763,  0.0790462760056176]\n",
    "              ])\n",
    "b = np.array([0.4414746715193314, 0.571488057593367, 0.34262141823364284, 0.5571632561784159])\n",
    "print(\"A\", A)\n",
    "print(\"b\", b)\n",
    "polytope = Polytope(A=A, b=b)\n",
    "volume = polytope.volume()\n",
    "print(\"volume\", volume)\n"
   ]
  },
  {
   "cell_type": "code",
   "execution_count": 16,
   "id": "1450ae0a",
   "metadata": {},
   "outputs": [],
   "source": [
    "#Normalize all data\n",
    "\n",
    "base_path = \"./data/\"\n",
    "\n",
    "m_array = [3, 4, 5]\n",
    "r_array = [2, 3, 4]\n",
    "\n",
    "\n",
    "m_array = [5]\n",
    "r_array = [3, 4]\n",
    "\n",
    "\n",
    "for m in m_array:\n",
    "    for r in r_array:\n",
    "        if m > r:\n",
    "        \n",
    "            path = base_path + \"m_\" + str(m) + \"_r_\" + str(r) + \"/\"\n",
    "            exact_politopes_x = np.load(path + \"exact_politopes_x.npy\", allow_pickle=True)\n",
    "            \n",
    "            exact_politopes_x_normalized = np.zeros((len(exact_politopes_x), m, r+1))\n",
    "            \n",
    "            for i in range(len(exact_politopes_x_normalized)):\n",
    "                exact_politopes_x_normalized[i] = exact_politopes_x[i] / np.linalg.norm(exact_politopes_x[i])\n",
    "\n",
    "            np.save(path + \"exact_politopes_x_normalized.npy\", exact_politopes_x_normalized)\n"
   ]
  },
  {
   "cell_type": "code",
   "execution_count": 19,
   "id": "19bac9b6",
   "metadata": {},
   "outputs": [
    {
     "name": "stdout",
     "output_type": "stream",
     "text": [
      "[[-0.08232348  0.03001744 -0.14401361 -0.01937042]\n",
      " [-0.19615903 -0.0266684   0.10577082  0.2431476 ]\n",
      " [ 0.04605125 -0.07093967  0.08763539  0.48579074]\n",
      " [-0.00624683  0.20149975  0.11135167  0.47986093]\n",
      " [ 0.13337732 -0.09699841 -0.14026484  0.52981488]]\n",
      "[[-4.081463059811734 1.4882153760563437 -7.13995831471439\n",
      "  -0.9603535432967778]\n",
      " [-9.725242827670428 -1.3221755130013708 5.243943437184393\n",
      "  12.054858706016969]\n",
      " [2.2831454748577595 -3.5170724838524787 4.344818785909865\n",
      "  24.08470744213026]\n",
      " [-0.3097073378025339 9.990027045140536 5.520633048895611\n",
      "  23.790717317790758]\n",
      " [6.612628825435181 -4.8090218772244375 -6.954100743023721\n",
      "  26.267352273741707]]\n",
      "95.51339992358257\n"
     ]
    }
   ],
   "source": [
    "m = 5\n",
    "r = 3\n",
    "\n",
    "base_path=\"./data/\"\n",
    "path = base_path + \"m_\" + str(m) + \"_r_\" + str(r) + \"/\"\n",
    "\n",
    "exact_politopes_x_normalized = np.load(path + \"exact_politopes_x_normalized.npy\", allow_pickle=True)\n",
    "exact_politopes_x = np.load(path + \"exact_politopes_x.npy\", allow_pickle=True)\n",
    "exact_politopes_y = np.load(path + \"exact_politopes_y.npy\", allow_pickle=True)\n",
    "\n",
    "print(exact_politopes_x_normalized[0])\n",
    "print(exact_politopes_x[0])\n",
    "print(exact_politopes_y[0])"
   ]
  }
 ],
 "metadata": {
  "kernelspec": {
   "display_name": "atimolo",
   "language": "python",
   "name": "python3"
  },
  "language_info": {
   "codemirror_mode": {
    "name": "ipython",
    "version": 3
   },
   "file_extension": ".py",
   "mimetype": "text/x-python",
   "name": "python",
   "nbconvert_exporter": "python",
   "pygments_lexer": "ipython3",
   "version": "3.13.2"
  }
 },
 "nbformat": 4,
 "nbformat_minor": 5
}
